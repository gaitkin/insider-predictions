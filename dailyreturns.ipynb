{
 "cells": [
  {
   "cell_type": "code",
   "execution_count": null,
   "id": "d798b135",
   "metadata": {},
   "outputs": [],
   "source": [
    "#Import libraries used\n",
    "import pandas as pd\n",
    "import numpy as np\n",
    "import math\n",
    "from datetime import datetime, timedelta\n",
    "\n",
    "#Import closing and insider data CSV as dataframe\n",
    "df_closing = pd.read_csv (\"closingdata.csv\")\n",
    "df_insider = pd.read_csv (\"insiderdata.csv\")\n",
    "#Sort closing dataset\n",
    "df_closing = df_closing.sort_values(by=['id', \"stamp\"])"
   ]
  },
  {
   "cell_type": "code",
   "execution_count": null,
   "id": "cc239af3",
   "metadata": {},
   "outputs": [],
   "source": [
    "#Obtain list of stocks in insider dataset and use it to filter stocks in closing dataset so that both datasets contain same stocks\n",
    "identifiers = [identifier for identifier in list(set(df_insider.loc[:, \"id\"])) if isinstance(identifier, str)]\n",
    "df_closing_modified = df_closing[df_closing['id'].str.contains(f\"^{'$|^'.join(identifiers)}$\",regex=True)]"
   ]
  },
  {
   "cell_type": "code",
   "execution_count": null,
   "id": "8e37c14d",
   "metadata": {},
   "outputs": [],
   "source": [
    "#List of stocks in closing dataset\n",
    "stocks = df_closing_modified.groupby(\"id\").groups.keys()\n",
    "#Create empty dict\n",
    "transactions = {\n",
    "    \"stamp\": [],\n",
    "    \"id\" : [],\n",
    "    \"price\" : [],\n",
    "    \"returns\": [],\n",
    "}\n",
    "\n",
    "#Create empty dataframe and set stamp and index\n",
    "df_daily_returns = pd.DataFrame(transactions, columns = [\"stamp\", \"id\", \"price\", \"returns\"])\n",
    "df_daily_returns = df_daily_returns.set_index([\"stamp\"])\n",
    "    \n",
    "#Calculate daily returns\n",
    "for stock in stocks:\n",
    "    \n",
    "    df_individual = df_closing_modified.groupby([\"id\"]).get_group(stock)\n",
    "    df_individual[\"stamp\"] = pd.to_datetime(df_individual[\"stamp\"])\n",
    "    df_individual = df_individual.set_index([\"stamp\"])\n",
    "    daily_returns = df_individual['price'].pct_change()\n",
    "\n",
    "    df_individual['returns'] = pd.Series(daily_returns, index=df_individual.index)\n",
    "\n",
    "    df_daily_returns = pd.concat([df_daily_returns, df_individual], ignore_index=False)\n",
    "    print(stock)"
   ]
  },
  {
   "cell_type": "code",
   "execution_count": null,
   "id": "f3c1a05f",
   "metadata": {},
   "outputs": [],
   "source": [
    "#Save to CSV\n",
    "df_daily_returns.to_csv (\"dailyreturns.csv\")"
   ]
  }
 ],
 "metadata": {
  "kernelspec": {
   "display_name": "Python 3",
   "language": "python",
   "name": "python3"
  },
  "language_info": {
   "codemirror_mode": {
    "name": "ipython",
    "version": 3
   },
   "file_extension": ".py",
   "mimetype": "text/x-python",
   "name": "python",
   "nbconvert_exporter": "python",
   "pygments_lexer": "ipython3",
   "version": "3.8.8"
  }
 },
 "nbformat": 4,
 "nbformat_minor": 5
}
